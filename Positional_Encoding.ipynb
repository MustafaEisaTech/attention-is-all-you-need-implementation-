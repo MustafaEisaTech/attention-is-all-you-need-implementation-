{
  "nbformat": 4,
  "nbformat_minor": 0,
  "metadata": {
    "colab": {
      "provenance": [],
      "authorship_tag": "ABX9TyPhMhf7wjrIcGFHd92Gx3uf",
      "include_colab_link": true
    },
    "kernelspec": {
      "name": "python3",
      "display_name": "Python 3"
    },
    "language_info": {
      "name": "python"
    }
  },
  "cells": [
    {
      "cell_type": "markdown",
      "metadata": {
        "id": "view-in-github",
        "colab_type": "text"
      },
      "source": [
        "<a href=\"https://colab.research.google.com/github/MustafaEisaTech/attention-is-all-you-need-implementation-/blob/main/Positional_Encoding.ipynb\" target=\"_parent\"><img src=\"https://colab.research.google.com/assets/colab-badge.svg\" alt=\"Open In Colab\"/></a>"
      ]
    },
    {
      "cell_type": "code",
      "execution_count": 1,
      "metadata": {
        "id": "vPxtMVDs6Rwm"
      },
      "outputs": [],
      "source": [
        "import os\n",
        "os.environ['TF_CPP_MIN_LOG_LEVEL'] = '2'\n",
        "\n",
        "import tensorflow as tf\n",
        "from tensorflow import keras\n",
        "from tensorflow.keras import layers\n",
        "from tensorflow.keras.layers import Layer"
      ]
    },
    {
      "cell_type": "code",
      "source": [
        "class PositionalEncoding(keras.layers.Layer):\n",
        "      def __init__(self, d_model, m_length):\n",
        "          super(PositionalEncoding, self).__init__()\n",
        "          self.d_model = d_model\n",
        "          self.m_length = m_length\n",
        "\n",
        "\n",
        "      def build(self, input_shape):\n",
        "          self.positions = tf.range(self.m_length,)\n",
        "          self.positional_vector = tf.expand_dims(self.positions, axis = -1)\n",
        "\n",
        "          self.indecies = tf.range(0, self.d_model )\n",
        "          self.index_vector = tf.expand_dims(self.indecies, axis = -1)\n",
        "          self.index_vector = tf.reshape(self.index_vector, (1, self.d_model))\n",
        "          self.freq = tf.pow(10000.0, -self.index_vector / self.d_model)\n",
        "\n",
        "          self.positional_values = self.positional_vector * self.freq\n",
        "\n",
        "          sin = tf.math.sin(self.positional_values[:, 0::2])\n",
        "          cos = tf.math.cos(self.positional_values[:, 1::2])\n",
        "\n",
        "          self.PE = tf.concat([sin, cos], axis= -1)\n",
        "          self.PE.set_shape((self.m_length, self.d_model))\n",
        "\n",
        "      def call(self, inputs):\n",
        "          sequence_len = tf.shape(inputs)[1] #(batch_size, sequence_len, d_model)\n",
        "          PE_slice = self.PE[:sequence_len, :] #slice the computed PE to the size of the sequence length\n",
        "          PE_slice_expanded = tf.expand_dims(PE_slice, axis = 0)# expand to add the batch size as well\n",
        "          PE_slice_expanded = tf.tile(PE_slice_expanded, [tf.shape(inputs)[0], 1, 1])  # Tile across batch size\n",
        "\n",
        "          return inputs + PE_slice_expanded"
      ],
      "metadata": {
        "collapsed": true,
        "id": "UeImCSTJ6eDF"
      },
      "execution_count": 7,
      "outputs": []
    }
  ]
}