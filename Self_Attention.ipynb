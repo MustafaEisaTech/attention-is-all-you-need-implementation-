{
  "nbformat": 4,
  "nbformat_minor": 0,
  "metadata": {
    "colab": {
      "provenance": [],
      "authorship_tag": "ABX9TyPTHJgp5Zvp6P0ebKKzIKKQ",
      "include_colab_link": true
    },
    "kernelspec": {
      "name": "python3",
      "display_name": "Python 3"
    },
    "language_info": {
      "name": "python"
    }
  },
  "cells": [
    {
      "cell_type": "markdown",
      "metadata": {
        "id": "view-in-github",
        "colab_type": "text"
      },
      "source": [
        "<a href=\"https://colab.research.google.com/github/MustafaEisaTech/attention-is-all-you-need-implementation-/blob/main/Self_Attention.ipynb\" target=\"_parent\"><img src=\"https://colab.research.google.com/assets/colab-badge.svg\" alt=\"Open In Colab\"/></a>"
      ]
    },
    {
      "cell_type": "code",
      "execution_count": 2,
      "metadata": {
        "id": "_wdJUJNCWEaV"
      },
      "outputs": [],
      "source": [
        "import os\n",
        "os.environ['TF_CPP_MIN_LOG_LEVEL'] = '2'\n",
        "\n",
        "import tensorflow as tf\n",
        "from tensorflow import keras\n",
        "from tensorflow.keras import layers"
      ]
    },
    {
      "cell_type": "code",
      "source": [
        "class SelfAttention(keras.layers.Layer):\n",
        "      def __init__(self, d_model, d_atten):\n",
        "          super(SelfAttention, self).__init__()\n",
        "          self.d_model = d_model\n",
        "          self.d_atten = d_atten\n",
        "\n",
        "      def build(self, input_shape):\n",
        "        self.W_q = self.add_weight(\n",
        "            shape = (self.d_model, self.d_atten),\n",
        "            initializer = 'random_normal',\n",
        "            trainable = True\n",
        "        )\n",
        "        self.W_k = self.add_weight(\n",
        "            shape= (self.d_model, self.d_atten),\n",
        "            initializer = 'random_normal',\n",
        "            trainable = True\n",
        "        )\n",
        "        self.W_v = self.add_weight(\n",
        "            shape=(self.d_model, self.d_atten),\n",
        "            initializer = 'random_normal',\n",
        "            trainable = True\n",
        "        )\n",
        "      def call(self, x, training=False):\n",
        "          self.Q = tf.matmul(x, self.W_q)\n",
        "          self.K = tf.matmul(x, self.W_k)\n",
        "          self.V = tf.matmul(x, self.W_v)\n",
        "\n",
        "          score = tf.matmul(self.Q, self.K, transpose_b=True) / tf.math.sqrt(tf.cast(self.d_atten, dtype= tf.float32))\n",
        "          weighted_score = tf.nn.softmax(score, axis = -1)\n",
        "\n",
        "          attention_score = tf.matmul(weighted_score, self.V)\n",
        "\n",
        "          return attention_score"
      ],
      "metadata": {
        "id": "mKieYuGMWhpL"
      },
      "execution_count": 4,
      "outputs": []
    }
  ]
}