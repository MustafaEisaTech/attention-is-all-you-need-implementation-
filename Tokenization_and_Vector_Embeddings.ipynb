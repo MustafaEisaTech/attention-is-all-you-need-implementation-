{
  "nbformat": 4,
  "nbformat_minor": 0,
  "metadata": {
    "colab": {
      "provenance": [],
      "authorship_tag": "ABX9TyMNoy4Z9fSjOmKo2SUUSJTN",
      "include_colab_link": true
    },
    "kernelspec": {
      "name": "python3",
      "display_name": "Python 3"
    },
    "language_info": {
      "name": "python"
    }
  },
  "cells": [
    {
      "cell_type": "markdown",
      "metadata": {
        "id": "view-in-github",
        "colab_type": "text"
      },
      "source": [
        "<a href=\"https://colab.research.google.com/github/MustafaEisaTech/attention-is-all-you-need-implementation-/blob/main/Tokenization_and_Vector_Embeddings.ipynb\" target=\"_parent\"><img src=\"https://colab.research.google.com/assets/colab-badge.svg\" alt=\"Open In Colab\"/></a>"
      ]
    },
    {
      "cell_type": "code",
      "execution_count": 5,
      "metadata": {
        "id": "bOG0jZGymTgP"
      },
      "outputs": [],
      "source": [
        "import os\n",
        "os.environ['TF_CPP_MIN_LOG_LEVEL'] = '2'\n",
        "\n",
        "import transformers\n",
        "from transformers import AutoTokenizer\n",
        "import tensorflow as tf\n",
        "from tensorflow import keras\n",
        "from tensorflow.keras import layers\n",
        "from tensorflow.keras.layers import Layer\n",
        "#physical_devices = tf.config.list_physical_devices('GPU')\n",
        "#physical_devices.experimental.set_memory_growth(physical_devices[0], True)"
      ]
    },
    {
      "cell_type": "code",
      "source": [
        "def tokenize_text(input:str):\n",
        "    tokenizer = AutoTokenizer.from_pretrained(\"bert-base-uncased\")\n",
        "    encoded_input = tokenizer(input, padding = True, truncation = True, return_tensors='tf')\n",
        "    return encoded_input"
      ],
      "metadata": {
        "id": "eiAgUwCGu-Dk"
      },
      "execution_count": 8,
      "outputs": []
    },
    {
      "cell_type": "code",
      "source": [
        "class VectorEmbeddings(keras.layers.Layer):\n",
        "\n",
        "\n",
        "      def __init__(self, d_embedding, v_size):\n",
        "          super(VectorEmbeddings, self).__init__()\n",
        "          self.d_embedding = d_embedding\n",
        "          self.v_size = v_size\n",
        "\n",
        "      def build(self, input_shape):\n",
        "        self.embedding_matrix = self.add_weight(\n",
        "            shape = (self.v_size, self.d_embedding),\n",
        "            initializer = 'random_normal',\n",
        "            trainable = True\n",
        "        )\n",
        "\n",
        "      def call(self, input):\n",
        "        # Manually:\n",
        "        # emedding_vector = embedding_matrix[input]\n",
        "        #return embedding_vector\n",
        "        return tf.nn.embedding_lookup(self.embedding_matrix, input)"
      ],
      "metadata": {
        "id": "m52wldLTnSQU"
      },
      "execution_count": 4,
      "outputs": []
    }
  ]
}